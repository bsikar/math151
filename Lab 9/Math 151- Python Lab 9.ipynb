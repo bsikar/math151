{
 "cells": [
  {
   "cell_type": "markdown",
   "id": "20c00fa5",
   "metadata": {},
   "source": [
    "## MATH 151 Lab 8"
   ]
  },
  {
   "cell_type": "markdown",
   "id": "7c243ef1",
   "metadata": {},
   "source": [
    "Section Number: 568\n",
    "\n",
    "\n",
    "Members:\n",
    "\n",
    "\n",
    "- Brighton Sikarskie\n",
    "- Colton Hesser\n",
    "- Gabriel Gonzalez\n",
    "- Gabriel Cuevas"
   ]
  },
  {
   "cell_type": "code",
   "execution_count": 173,
   "id": "2276b737",
   "metadata": {},
   "outputs": [],
   "source": [
    "from sympy import *\n",
    "from sympy.plotting import (plot,plot_parametric)"
   ]
  },
  {
   "cell_type": "markdown",
   "id": "dccee95d",
   "metadata": {},
   "source": [
    "### Question 1"
   ]
  },
  {
   "cell_type": "markdown",
   "id": "f83eae05",
   "metadata": {},
   "source": [
    "#### 1a"
   ]
  },
  {
   "cell_type": "code",
   "execution_count": 174,
   "id": "06306ce5",
   "metadata": {},
   "outputs": [
    {
     "name": "stdout",
     "output_type": "stream",
     "text": [
      "y = (1 + 26/x)**x can be rewritten as y = exp(x*log(1 + 26/x))\n",
      "We can check for the limit of the exponent as x approaches infinity as f(x) / g(x) where f(x) = ln(1 + (26 / x)) and g(x) = (1 / x)\n"
     ]
    }
   ],
   "source": [
    "# given: y = (1 + (26 / x))^x\n",
    "# rewrite in form y = f(x)/g(x)\n",
    "# f(x) = ln(1 + (26 / x))\n",
    "# g(x) = (1 / x)\n",
    "x = Symbol('x')\n",
    "f = ln(1 + (26 / x))\n",
    "g = (1 / x)\n",
    "y = f / g\n",
    "\n",
    "print(f\"y = {(1 + (26/x))**x} can be rewritten as y = {exp(y)}\")\n",
    "print(f\"We can check for the limit of the exponent as x approaches infinity as f(x) / g(x) where f(x) = ln(1 + (26 / x)) and g(x) = (1 / x)\")"
   ]
  },
  {
   "cell_type": "markdown",
   "id": "b5ed0668",
   "metadata": {},
   "source": [
    "#### 1b"
   ]
  },
  {
   "cell_type": "code",
   "execution_count": 175,
   "id": "c66fb3f0",
   "metadata": {},
   "outputs": [
    {
     "name": "stdout",
     "output_type": "stream",
     "text": [
      "Limit of log(1 + 26/x) as x -> oo: 0\n",
      "Limit of 1/x as x -> oo: 0\n"
     ]
    }
   ],
   "source": [
    "# find the limits of f and g as x -> oo\n",
    "f_lim = limit(f, x, oo)\n",
    "g_lim = limit(g, x, oo)\n",
    "print(f\"The limit of {f} as x -> oo: {f_lim}\")\n",
    "print(f\"The limit of {g} as x -> oo: {g_lim}\")"
   ]
  },
  {
   "cell_type": "markdown",
   "id": "142cb09a",
   "metadata": {},
   "source": [
    "#### 1c"
   ]
  },
  {
   "cell_type": "code",
   "execution_count": 176,
   "id": "e7783255",
   "metadata": {},
   "outputs": [
    {
     "name": "stdout",
     "output_type": "stream",
     "text": [
      "Since the limit of log(1 + 26/x) as x -> oo is 0 and the limit of 1/x as x -> oo is 0, we can use L'Hopital's rule to find the limit of y as x -> oo.\n",
      "For y = f(x) / g(x) where f(x) = log(1 + 26/x) and g(x) = 1/x, the derivative of f(x) is -26/(x**2*(1 + 26/x)) and the derivative of g(x) is -1/x**2.\n",
      "We can rewrite y = x*log(1 + 26/x) as y = -26/(x**2*(1 + 26/x)) / -1/x**2 or simplified y = 26*x/(x + 26) in order to take the limit as stated by L'Hopital's rule.\n",
      "The numerator of y is 26*x and the denominator of y is x + 26.\n",
      "The limit of the numerator as x -> oo is oo and the limit of the denominator as x -> oo is oo.\n",
      "The derivative of the numerator is 26 and the derivative of the denominator is 1.\n",
      "The limit of the derivative of the numerator as x -> oo is 26 and the limit of the derivative of the denominator as x -> oo is 1.\n",
      "The exponent of the limit of y as x -> oo is 26.\n",
      "The limit of y as x -> oo is exp(26).\n"
     ]
    }
   ],
   "source": [
    "# use L'Hopital's rule to find the limit of y as x -> oo\n",
    "print(f\"Since the limit of {f} as x -> oo is {f_lim} and the limit of {g} as x -> oo is {g_lim}, we can use L'Hopital's rule to find the limit of y as x -> oo.\")\n",
    "\n",
    "f_diff = diff(f, x)\n",
    "g_diff = diff(g, x)\n",
    "y_before = y\n",
    "y = simplify(f_diff / g_diff)\n",
    "\n",
    "print(f\"For y = f(x) / g(x) where f(x) = {f} and g(x) = {g}, the derivative of f(x) is {f_diff} and the derivative of g(x) is {g_diff}.\")\n",
    "print(f\"We can rewrite y = {y_before} as y = {f_diff} / {g_diff} or simplified y = {y} in order to take the limit as stated by L'Hopital's rule.\")\n",
    "\n",
    "numerator = numer(y)\n",
    "denominator = denom(y)\n",
    "print(f\"The numerator of y is {numerator} and the denominator of y is {denominator}.\")\n",
    "\n",
    "numerator_lim = limit(numerator, x, oo)\n",
    "denominator_lim = limit(denominator, x, oo)\n",
    "\n",
    "print(f\"The limit of the numerator as x -> oo is {numerator_lim} and the limit of the denominator as x -> oo is {denominator_lim}.\")\n",
    "\n",
    "numerator_diff = diff(numerator, x)\n",
    "denominator_diff = diff(denominator, x)\n",
    "print(f\"The derivative of the numerator is {numerator_diff} and the derivative of the denominator is {denominator_diff}.\")\n",
    "\n",
    "numerator_diff_lim = limit(numerator_diff, x, oo)\n",
    "denominator_diff_lim = limit(denominator_diff, x, oo)\n",
    "\n",
    "print(f\"The limit of the derivative of the numerator as x -> oo is {numerator_diff_lim} and the limit of the derivative of the denominator as x -> oo is {denominator_diff_lim}.\")\n",
    "\n",
    "exponent = numerator_diff_lim / denominator_diff_lim\n",
    "print(f\"The exponent of the limit of y as x -> oo is {exponent}.\")\n",
    "print(f\"The limit of y as x -> oo is {exp(exponent)}.\")\n"
   ]
  },
  {
   "cell_type": "markdown",
   "id": "81e1eea6",
   "metadata": {},
   "source": [
    "#### 1d"
   ]
  },
  {
   "cell_type": "code",
   "execution_count": 177,
   "id": "36c3e65d",
   "metadata": {},
   "outputs": [
    {
     "name": "stdout",
     "output_type": "stream",
     "text": [
      "Using the limit function in sympy, the limit of y as x -> oo is 26.\n",
      "We can see that the limit of y as x -> oo is exp(26) and the limit of y as x -> oo using the limit function in sympy is 26.\n",
      "Since they are the same value, we can conclude that the limit of y as x -> oo is exp(26).\n"
     ]
    }
   ],
   "source": [
    "y_lim = limit(y, x, oo)\n",
    "print(f\"Using the limit function in sympy, the limit of y as x -> oo is {y_lim}.\")\n",
    "print(f\"We can see that the limit of y as x -> oo is {exp(exponent)} and the limit of y as x -> oo using the limit function in sympy is {y_lim}.\")\n",
    "print(f\"Since they are the same value, we can conclude that the limit of y as x -> oo is {exp(exponent)}.\")"
   ]
  },
  {
   "cell_type": "markdown",
   "id": "46a2250a",
   "metadata": {},
   "source": [
    "### Question 2"
   ]
  },
  {
   "cell_type": "markdown",
   "id": "859727b7",
   "metadata": {},
   "source": [
    "#### 2a"
   ]
  },
  {
   "cell_type": "code",
   "execution_count": 178,
   "id": "709b2e6f",
   "metadata": {},
   "outputs": [
    {
     "name": "stdout",
     "output_type": "stream",
     "text": [
      "The radius of the billboard is 43.0116263352131 inches.\n"
     ]
    }
   ],
   "source": [
    "\"\"\"\n",
    "Suppose a photograph with a width of 42 inches and a\n",
    "height of 50 inches is placed in the blue frame of the\n",
    "\n",
    "round billboard shown. The margins between the rect-\n",
    "angular frame and the picture are 10 inches at the top\n",
    "\n",
    "and bottom and 4 inches on the sides. What would the\n",
    "radius of the billboard be that would fit a photograph\n",
    "of such dimensions?\n",
    "\"\"\"\n",
    "\n",
    "# given:\n",
    "# width = 42 inches\n",
    "# height = 50 inches\n",
    "# top and bottom margins = 10 inches\n",
    "# left and right margins = 4 inches\n",
    "\n",
    "# the outer most rectangle\n",
    "w = 42 + (2 * 4)\n",
    "h = 50 + (2 * 10)\n",
    "# from the center of the rectangle to the top right corner\n",
    "# get the distance, which is the radius\n",
    "d = sqrt((w / 2)**2 + (h / 2)**2)\n",
    "print(f\"The radius of the billboard is {d} inches.\")\n"
   ]
  },
  {
   "cell_type": "markdown",
   "id": "4cad579b",
   "metadata": {},
   "source": [
    "#### 2b"
   ]
  },
  {
   "cell_type": "code",
   "execution_count": 179,
   "id": "ed15acf0",
   "metadata": {},
   "outputs": [
    {
     "name": "stdout",
     "output_type": "stream",
     "text": [
      "The dimensions of the largest picture that could fit in the frame are 74.4148590423809 inches by 81.0088189872101 inches.\n"
     ]
    }
   ],
   "source": [
    "\"\"\"\n",
    "A billboard with radius 55 inches is designed like the\n",
    "figure to the left. Determine the dimensions, a and b,\n",
    "of the largest picture that could fit in the frame.\n",
    "\"\"\"\n",
    "\n",
    "# R^2 = (b / 2)^2 + (a / 2)^2\n",
    "# R^2 = 1/4 (b^2 + a^2)\n",
    "# 4R^2 = b^2 + a^2\n",
    "# b = sqrt(4R^2 - a^2)\n",
    "a = Symbol('a')\n",
    "b = sqrt(4 * (55 ** 2) - a ** 2)\n",
    "# A = (a - 8)(b - 20)\n",
    "A = (a - 8) * (b - 20)\n",
    "A_diff = diff(A, a)\n",
    "a_ = nsolve(A_diff, a, 70)\n",
    "b = b.subs(a, a_)\n",
    "a = a_\n",
    "\n",
    "# check the radius\n",
    "assert(sqrt((a / 2)**2 + (b / 2)**2) == 55)\n",
    "\n",
    "print(f\"The dimensions of the largest picture that could fit in the frame are {a} inches by {b} inches.\")"
   ]
  },
  {
   "cell_type": "markdown",
   "id": "d4dc1f42",
   "metadata": {},
   "source": [
    "### Question 3"
   ]
  },
  {
   "cell_type": "markdown",
   "id": "17570c6c",
   "metadata": {},
   "source": [
    "#### 3a"
   ]
  },
  {
   "cell_type": "code",
   "execution_count": 211,
   "id": "09090072",
   "metadata": {},
   "outputs": [
    {
     "data": {
      "image/png": "[encoded data removed]",
      "text/plain": [
       "<Figure size 640x480 with 1 Axes>"
      ]
     },
     "metadata": {},
     "output_type": "display_data"
    },
    {
     "name": "stdout",
     "output_type": "stream",
     "text": [
      "The graph of the optimization function is shown above.\n"
     ]
    }
   ],
   "source": [
    "# R_2 = 2R_1\n",
    "# V = 1/3*pi*h*(R_1^2 + R_2^2 + R_1*R_2)\n",
    "# SA = pi*(R_1 + R_2)*sqrt((R_2-R_1)^2 + h^2)+pi*(R_1^2 + R_2^2)\n",
    "\n",
    "# V = 590\n",
    "# minimize SA\n",
    "R_1, R_2, h = symbols('R_1 R_2 h')\n",
    "V = 1/3 * pi * h * (R_1**2 + R_2**2 + R_1 * R_2)\n",
    "SA = pi * (R_1 + R_2) * sqrt((R_2 - R_1)**2 + h**2) + pi * (R_1**2 + R_2**2)\n",
    "# R_2 = 2 * R_1\n",
    "V = V.subs(R_2, 2 * R_1)\n",
    "h_ = solve(V - 590, h)[0]\n",
    "SA = SA.subs(h, h_).subs(R_2, 2 * R_1)\n",
    "SA_diff = diff(SA, R_1)\n",
    "\n",
    "# plot the optimization function on R_1 x = [0, 5] with y [300, 800]\n",
    "plot(SA, (R_1, 0, 5), ylim=(300, 800))\n",
    "print(f\"The graph of the optimization function is shown above.\")"
   ]
  },
  {
   "cell_type": "markdown",
   "id": "951ad982",
   "metadata": {},
   "source": [
    "#### 3b"
   ]
  },
  {
   "cell_type": "code",
   "execution_count": 206,
   "id": "885c06df",
   "metadata": {},
   "outputs": [
    {
     "name": "stdout",
     "output_type": "stream",
     "text": [
      "The radius of the top of the cone is 2.73235307040265 inches, the radius of the bottom of the cone is 5.46470614080531 inches, and the height of the cone is 10.7808181056803.\n"
     ]
    }
   ],
   "source": [
    "R_1_ = nsolve(SA_diff, R_1, 3)\n",
    "R_2_ = 2 * R_1_\n",
    "h_ = h_.subs(R_1, R_1_).subs(R_2, R_2_)\n",
    "print(f\"The radius of the top of the cone is {R_1_} inches, the radius of the bottom of the cone is {R_2_} inches, and the height of the cone is {h_}.\")"
   ]
  },
  {
   "cell_type": "markdown",
   "id": "3047327f",
   "metadata": {},
   "source": [
    "### Question 4"
   ]
  },
  {
   "cell_type": "markdown",
   "id": "ab7099ec",
   "metadata": {},
   "source": [
    "#### 4a"
   ]
  },
  {
   "cell_type": "code",
   "execution_count": 181,
   "id": "b7cad195",
   "metadata": {},
   "outputs": [
    {
     "name": "stdout",
     "output_type": "stream",
     "text": [
      "The anti-derivative of f''(x) is f'(x) = 8 - 5/(x + 1).\n",
      "The anti-derivative of f'(x) is f(x) = 8*x - 5*log(x + 1) + 9.\n"
     ]
    }
   ],
   "source": [
    "# given f''(x) = 5 / (x + 1)^2\n",
    "# f'(0) = 3\n",
    "# f(0) = 9\n",
    "# find f'(x) and f(x)\n",
    "\n",
    "f_double_prime = 5 / ((x + 1) ** 2)\n",
    "f_prime = integrate(f_double_prime, x)\n",
    "\n",
    "# solve for C\n",
    "C = symbols('C')\n",
    "C = solve(f_prime.subs(x, 0) - 3 + C, C)[0]\n",
    "f_prime = f_prime + C\n",
    "\n",
    "print(f\"The anti-derivative of f''(x) is f'(x) = {f_prime}.\")\n",
    "\n",
    "f = integrate(f_prime, x)\n",
    "\n",
    "# solve for C\n",
    "C = symbols('C')\n",
    "C = solve(f.subs(x, 0) - 9 + C, C)[0]\n",
    "f = f + C\n",
    "\n",
    "print(f\"The anti-derivative of f'(x) is f(x) = {f}.\")\n"
   ]
  },
  {
   "cell_type": "markdown",
   "id": "575405be",
   "metadata": {},
   "source": [
    "#### 4b"
   ]
  },
  {
   "cell_type": "code",
   "execution_count": 182,
   "id": "ee8eb7a3",
   "metadata": {},
   "outputs": [
    {
     "name": "stdout",
     "output_type": "stream",
     "text": [
      "The function f(x) is -5*x*log(2)/3 + 5*x*log(5)/3 - 5*log(x + 1) - 5*log(5)/3 + 20*log(2)/3 + 10.\n"
     ]
    }
   ],
   "source": [
    "# f(1) = f(4) = 10\n",
    "# find f(x)\n",
    "\n",
    "f_prime_prime = 5 / ((x + 1) ** 2)\n",
    "f_prime = integrate(f_prime_prime, x)\n",
    "x, C, D = symbols('x C D')\n",
    "f = integrate(f_prime, x) + C*x + D\n",
    "\n",
    "# system of equations\n",
    "eq1 = f.subs(x, 1) - 10\n",
    "eq2 = f.subs(x, 4) - 10\n",
    "\n",
    "# solve eq1 in terms of C\n",
    "eq1 = solve(eq1, C)[0]\n",
    "\n",
    "# plug eq1 into eq2\n",
    "eq2 = eq2.subs(C, eq1)\n",
    "\n",
    "# solve eq2 in terms of D\n",
    "eq2 = solve(eq2, D)[0]\n",
    "\n",
    "# plug eq1 and eq2 into f\n",
    "f = f.subs(C, eq1)\n",
    "f = f.subs(D, eq2)\n",
    "\n",
    "print(f\"The function f(x) is {f.simplify()}.\")"
   ]
  }
 ],
 "metadata": {
  "kernelspec": {
   "display_name": "Python 3.10.6 64-bit",
   "language": "python",
   "name": "python3"
  },
  "language_info": {
   "codemirror_mode": {
    "name": "ipython",
    "version": 3
   },
   "file_extension": ".py",
   "mimetype": "text/x-python",
   "name": "python",
   "nbconvert_exporter": "python",
   "pygments_lexer": "ipython3",
   "version": "3.10.6"
  },
  "vscode": {
   "interpreter": {
    "hash": "916dbcbb3f70747c44a77c7bcd40155683ae19c65e1c03b4aa3499c5328201f1"
   }
  }
 },
 "nbformat": 4,
 "nbformat_minor": 5
}
