{
 "cells": [
  {
   "cell_type": "markdown",
   "id": "20c00fa5",
   "metadata": {},
   "source": [
    "## MATH 151 Lab  1"
   ]
  },
  {
   "cell_type": "markdown",
   "id": "7c243ef1",
   "metadata": {},
   "source": [
    "Section Number: 568\n",
    "\n",
    "\n",
    "Members:\n",
    "\n",
    "\n",
    "- Brighton Sikarskie\n",
    "- Colton Hesser\n",
    "- Gabriel Gonzalez\n",
    "- Gabriel Cuevas"
   ]
  },
  {
   "cell_type": "code",
   "execution_count": 76,
   "id": "cf836732",
   "metadata": {},
   "outputs": [],
   "source": [
    "from sympy import *\n",
    "from sympy.plotting import (plot,plot_parametric)"
   ]
  },
  {
   "cell_type": "markdown",
   "id": "3169990f",
   "metadata": {},
   "source": [
    "### Question 1"
   ]
  },
  {
   "cell_type": "markdown",
   "id": "f0561a86",
   "metadata": {},
   "source": [
    "#### 1a"
   ]
  },
  {
   "cell_type": "code",
   "execution_count": 77,
   "id": "cbfab3f6",
   "metadata": {},
   "outputs": [
    {
     "name": "stdout",
     "output_type": "stream",
     "text": [
      "5.29251613828432\n"
     ]
    }
   ],
   "source": [
    "print((79 * (E ** 1.29 + 11.1 ** 2)) / (2026 - 5.1 ** 3))"
   ]
  },
  {
   "cell_type": "markdown",
   "id": "efdd616f",
   "metadata": {},
   "source": [
    "#### 1b"
   ]
  },
  {
   "cell_type": "code",
   "execution_count": 78,
   "id": "6fd5ac31",
   "metadata": {},
   "outputs": [
    {
     "name": "stdout",
     "output_type": "stream",
     "text": [
      "approximate: -4 - 2*sqrt(3)\n",
      "exact: -7.46410161513775\n"
     ]
    }
   ],
   "source": [
    "def to_rad(deg): return deg * pi / 180\n",
    "\n",
    "equation = (cos((11 * pi) / 12) * sec(to_rad(75)) + tan((7 * pi) / 12))\n",
    "print(f\"approximate: {equation.simplify()}\")\n",
    "print(f\"exact: {equation.evalf()}\")"
   ]
  },
  {
   "cell_type": "markdown",
   "id": "8b00f000",
   "metadata": {},
   "source": [
    "### Question 2"
   ]
  },
  {
   "cell_type": "markdown",
   "id": "bacdc1db",
   "metadata": {},
   "source": [
    "#### 2a"
   ]
  },
  {
   "cell_type": "code",
   "execution_count": 79,
   "id": "be2f2c71",
   "metadata": {},
   "outputs": [
    {
     "name": "stdout",
     "output_type": "stream",
     "text": [
      "-0.816496580927726 -0.980196058819607 -0.999998000002000\n"
     ]
    }
   ],
   "source": [
    "x = Symbol('x')\n",
    "equations = (sqrt(x **2 - 4) / (x - 2))\n",
    "def f(o): return equations.subs(x, o).evalf()\n",
    "\n",
    "print(f(-10), f(-100), f(-1000000))"
   ]
  },
  {
   "cell_type": "markdown",
   "id": "23bc68a6",
   "metadata": {},
   "source": [
    "#### 2b"
   ]
  },
  {
   "cell_type": "code",
   "execution_count": 80,
   "id": "357bbf0f",
   "metadata": {},
   "outputs": [
    {
     "name": "stdout",
     "output_type": "stream",
     "text": [
      "20.0249843945009 200.002499984149 2000.00024988243\n"
     ]
    }
   ],
   "source": [
    "print(f(2.01), f(2.0001), f(2.000001))"
   ]
  },
  {
   "cell_type": "markdown",
   "id": "d4c7adb9",
   "metadata": {},
   "source": [
    "#### 2c"
   ]
  },
  {
   "cell_type": "markdown",
   "id": "e20a3063",
   "metadata": {},
   "source": [
    "Based on part (a), what happens to the y-values of f when x gets REALLY large in the\n",
    "negative direction?\n",
    "\n",
    "When x gets REALLY large in the negative direction the y-values of f become close to -1."
   ]
  },
  {
   "cell_type": "markdown",
   "id": "1ef4d714",
   "metadata": {},
   "source": [
    "#### 2d"
   ]
  },
  {
   "cell_type": "markdown",
   "id": "4e7b3b96",
   "metadata": {},
   "source": [
    "Based on part (b), what happens to the y-values of f when x gets close to 2 from the\n",
    "right?\n",
    "\n",
    "When x gets cloes to 2 from the right the y-values of f becomes increasingly larger. It seems for every 0 we put behind the decimal the outputed value gets increased by a power of 10."
   ]
  },
  {
   "cell_type": "markdown",
   "id": "1fb8b9b8",
   "metadata": {},
   "source": [
    "### Question 3"
   ]
  },
  {
   "cell_type": "markdown",
   "id": "ccffd0d0",
   "metadata": {},
   "source": [
    "#### 3a"
   ]
  },
  {
   "cell_type": "code",
   "execution_count": 81,
   "id": "9ebb9309",
   "metadata": {},
   "outputs": [
    {
     "name": "stdout",
     "output_type": "stream",
     "text": [
      "ball height: 6.43593602529508\n"
     ]
    }
   ],
   "source": [
    "a, v, h = symbols('a v h')\n",
    "\n",
    "equation = (-16 / (v ** 2 * (cos(a) ** 2))) * x ** 2 + tan(a) * x + h\n",
    "ball_height = equation.subs([(a, to_rad(26)), (v, 130), (h, 3), (x, 409)]).evalf()\n",
    "print(f\"ball height: {ball_height}\")"
   ]
  },
  {
   "cell_type": "markdown",
   "id": "e15dcd0a",
   "metadata": {},
   "source": [
    "Since the wall is 10ft high and the ball is only 6.4ft high it will hit the wall and not clear it."
   ]
  },
  {
   "cell_type": "markdown",
   "id": "baa2be1a",
   "metadata": {},
   "source": [
    "#### 3b"
   ]
  },
  {
   "cell_type": "code",
   "execution_count": 82,
   "id": "6c67d267",
   "metadata": {},
   "outputs": [
    {
     "name": "stdout",
     "output_type": "stream",
     "text": [
      "He released it from 7.46746878686940 feet in the air\n"
     ]
    }
   ],
   "source": [
    "equation = (-16 / (v ** 2 * (cos(a) ** 2))) * x ** 2 + tan(a) * x + h - 10\n",
    "h = solve(equation.subs([(a, to_rad(54.2)), (v, 24), (x, 15)]), h)[0]\n",
    "print(f\"He released it from {h} feet in the air\")"
   ]
  }
 ],
 "metadata": {
  "kernelspec": {
   "display_name": "Python 3.10.5 64-bit",
   "language": "python",
   "name": "python3"
  },
  "language_info": {
   "codemirror_mode": {
    "name": "ipython",
    "version": 3
   },
   "file_extension": ".py",
   "mimetype": "text/x-python",
   "name": "python",
   "nbconvert_exporter": "python",
   "pygments_lexer": "ipython3",
   "version": "3.10.5"
  },
  "vscode": {
   "interpreter": {
    "hash": "1185b752b42a774032ed3acde13763f42ed6db4463138e5ce81ded0750a84f6f"
   }
  }
 },
 "nbformat": 4,
 "nbformat_minor": 5
}
