{
 "cells": [
  {
   "cell_type": "markdown",
   "id": "20c00fa5",
   "metadata": {},
   "source": [
    "## MATH 151 Lab  5"
   ]
  },
  {
   "cell_type": "markdown",
   "id": "7c243ef1",
   "metadata": {},
   "source": [
    "Section Number: 568\n",
    "\n",
    "\n",
    "Members:\n",
    "\n",
    "\n",
    "- Brighton Sikarskie\n",
    "- Colton Hesser\n",
    "- Gabriel Gonzalez\n",
    "- Gabriel Cuevas"
   ]
  },
  {
   "cell_type": "code",
   "execution_count": 1,
   "id": "cf836732",
   "metadata": {},
   "outputs": [],
   "source": [
    "from sympy import *\n",
    "from sympy.plotting import (plot,plot_parametric)\n",
    "%matplotlib inline"
   ]
  },
  {
   "cell_type": "markdown",
   "id": "3169990f",
   "metadata": {},
   "source": [
    "### Question 1"
   ]
  },
  {
   "cell_type": "markdown",
   "id": "f0561a86",
   "metadata": {},
   "source": [
    "#### 1a"
   ]
  },
  {
   "cell_type": "code",
   "execution_count": 2,
   "id": "0889599a",
   "metadata": {},
   "outputs": [
    {
     "name": "stdout",
     "output_type": "stream",
     "text": [
      "The 1st derivative of (x**2 + 1)*exp(x) is (x**2 + 2*x + 1)*exp(x)\n",
      "The 2th derivative of (x**2 + 1)*exp(x) is (x**2 + 4*x + 3)*exp(x)\n",
      "The 3th derivative of (x**2 + 1)*exp(x) is (x**2 + 6*x + 7)*exp(x)\n",
      "The 4th derivative of (x**2 + 1)*exp(x) is (x**2 + 8*x + 13)*exp(x)\n",
      "The 5th derivative of (x**2 + 1)*exp(x) is (x**2 + 10*x + 21)*exp(x)\n",
      "The 6th derivative of (x**2 + 1)*exp(x) is (x**2 + 12*x + 31)*exp(x)\n",
      "The 7th derivative of (x**2 + 1)*exp(x) is (x**2 + 14*x + 43)*exp(x)\n",
      "The 8th derivative of (x**2 + 1)*exp(x) is (x**2 + 16*x + 57)*exp(x)\n"
     ]
    }
   ],
   "source": [
    "x = Symbol('x')\n",
    "fo = exp(x) * (1 + x ** 2)\n",
    "for i in range(1, 9):\n",
    "    f = diff(fo, x, i).simplify()\n",
    "    if i == 1:\n",
    "        print(f'The {i}st derivative of {fo} is {f}')\n",
    "    else:\n",
    "        print(f'The {i}th derivative of {fo} is {f}')"
   ]
  },
  {
   "cell_type": "markdown",
   "id": "efdd616f",
   "metadata": {},
   "source": [
    "#### 1b"
   ]
  },
  {
   "cell_type": "code",
   "execution_count": 3,
   "id": "582449e5",
   "metadata": {},
   "outputs": [
    {
     "name": "stdout",
     "output_type": "stream",
     "text": [
      "The nth derivative of (x**2 + 1)*exp(x) can be found using 2*n*x*exp(x) + (n**2 - n)*exp(x) + (x**2 + 1)*exp(x)\n"
     ]
    }
   ],
   "source": [
    "n = symbols('n')\n",
    "equation = 2 * n * x * exp(x) + (x ** 2 + 1) * exp(x) + (n ** 2 - n) * exp(x)\n",
    "for i in range(1, 50):\n",
    "    f = diff(fo, x, i).simplify()\n",
    "    try:\n",
    "        assert(equation.subs(n, i).simplify() == f)\n",
    "    except AssertionError:\n",
    "        print(f'The {i}th derivative of {fo} is {f}',\n",
    "              f'and not {equation.subs(n, i).simplify()}')\n",
    "        break\n",
    "print(f'The nth derivative of {fo} can be found using {equation}')"
   ]
  },
  {
   "cell_type": "markdown",
   "id": "0721fb00",
   "metadata": {},
   "source": [
    "#### 1c"
   ]
  },
  {
   "cell_type": "code",
   "execution_count": 4,
   "id": "dd38ebc1",
   "metadata": {},
   "outputs": [
    {
     "name": "stdout",
     "output_type": "stream",
     "text": [
      "The 50th derivative of (x**2 + 1)*exp(x) is (x**2 + 100*x + 2451)*exp(x)\n",
      "Using our formula we can verify that the 50th derivative of (x**2 + 1)*exp(x) is (x**2 + 100*x + 2451)*exp(x)\n"
     ]
    }
   ],
   "source": [
    "print(f'The 50th derivative of {fo} is {diff(fo, x, 50).simplify()}')\n",
    "print(f'Using our formula we can verify that the 50th derivative', \n",
    "      f'of {fo} is {equation.subs(n, 50).simplify()}')"
   ]
  },
  {
   "cell_type": "markdown",
   "id": "8b00f000",
   "metadata": {},
   "source": [
    "### Question 2"
   ]
  },
  {
   "cell_type": "markdown",
   "id": "bacdc1db",
   "metadata": {},
   "source": [
    "#### 2a"
   ]
  },
  {
   "cell_type": "code",
   "execution_count": 5,
   "id": "be2f2c71",
   "metadata": {},
   "outputs": [
    {
     "name": "stdout",
     "output_type": "stream",
     "text": [
      "The values of k that make the function y = cos(k*t) a solution to the differential equation -4*k**2*cos(k*t) + 25*cos(k*t) are [-5/2, 5/2, pi/(2*t), 3*pi/(2*t)]\n"
     ]
    }
   ],
   "source": [
    "k, t = symbols('k t')\n",
    "\n",
    "y = cos(k * t)\n",
    "y2 = diff(y, t, 2)\n",
    "equation = 4 * y2 + 25 * y\n",
    "solutions = solve(equation, k)\n",
    "\n",
    "print(f'The values of k that make the function y = {y}',\n",
    "      f'a solution to the differential equation {equation} are {solutions}')"
   ]
  },
  {
   "cell_type": "markdown",
   "id": "23bc68a6",
   "metadata": {},
   "source": [
    "#### 2b"
   ]
  },
  {
   "cell_type": "code",
   "execution_count": 6,
   "id": "357bbf0f",
   "metadata": {},
   "outputs": [
    {
     "name": "stdout",
     "output_type": "stream",
     "text": [
      "For k = -5/2, every member of the family of functions y = -A*sin(5*t/2) + B*cos(5*t/2) is also a solution to the differential equation -25*A*sin(5*t/2) + 25*B*cos(5*t/2) + 25*(A*sin(5*t/2) - B*cos(5*t/2))\n",
      "For k = 5/2, every member of the family of functions y = A*sin(5*t/2) + B*cos(5*t/2) is also a solution to the differential equation 25*A*sin(5*t/2) + 25*B*cos(5*t/2) - 25*(A*sin(5*t/2) + B*cos(5*t/2))\n",
      "For k = pi/(2*t), every member of the family of functions y = A is also a solution to the differential equation 25*A\n",
      "For k = 3*pi/(2*t), every member of the family of functions y = -A is also a solution to the differential equation -25*A\n"
     ]
    }
   ],
   "source": [
    "for s in solutions:\n",
    "    A, B = symbols('A B')\n",
    "    y = A * sin(s * t) + B * cos(s * t)\n",
    "    y2 = diff(y, t, 2)\n",
    "    equation = 4 * y2 + 25 * y\n",
    "    print(f'For k = {s}, every member of the family of functions',\n",
    "          f'y = {y} is also a solution to the differential equation {equation}')"
   ]
  },
  {
   "cell_type": "markdown",
   "id": "1fb8b9b8",
   "metadata": {},
   "source": [
    "### Question 3"
   ]
  },
  {
   "cell_type": "markdown",
   "id": "ccffd0d0",
   "metadata": {},
   "source": [
    "#### 3a"
   ]
  },
  {
   "cell_type": "code",
   "execution_count": 7,
   "id": "9ebb9309",
   "metadata": {},
   "outputs": [
    {
     "name": "stdout",
     "output_type": "stream",
     "text": [
      "The derivative of (t - 2)**9/(2*t + 1)**9 is -18*(t - 2)**9/(2*t + 1)**10 + 9*(t - 2)**8/(2*t + 1)**9\n"
     ]
    }
   ],
   "source": [
    "t = symbols('t')\n",
    "g = ((t - 2) / (2 * t + 1)) ** 9\n",
    "g_diff = diff(g, t)\n",
    "print(f'The derivative of {g} is {g_diff}')"
   ]
  },
  {
   "cell_type": "markdown",
   "id": "baa2be1a",
   "metadata": {},
   "source": [
    "#### 3b"
   ]
  },
  {
   "cell_type": "code",
   "execution_count": 8,
   "id": "ed50b7a1",
   "metadata": {},
   "outputs": [
    {
     "name": "stdout",
     "output_type": "stream",
     "text": [
      "The simplified derivative of (t - 2)**9/(2*t + 1)**9 is 45*(t - 2)**8/(2*t + 1)**10\n"
     ]
    }
   ],
   "source": [
    "g_simple = simplify(g_diff)\n",
    "print(f'The simplified derivative of {g} is {g_simple}')"
   ]
  },
  {
   "cell_type": "markdown",
   "id": "f78847a1",
   "metadata": {},
   "source": [
    "#### 3c"
   ]
  },
  {
   "cell_type": "code",
   "execution_count": 9,
   "id": "9fff1823",
   "metadata": {},
   "outputs": [
    {
     "name": "stdout",
     "output_type": "stream",
     "text": [
      "The horizontal tangent line of (t - 2)**9/(2*t + 1)**9 is at t = 2\n",
      "The equation of the horizontal tangent line of (t - 2)**9/(2*t + 1)**9 is x = 0\n"
     ]
    }
   ],
   "source": [
    "horizontal_tangent_lines = solve(g_diff, t)[0]\n",
    "print(f'The horizontal tangent line of {g} is at',\n",
    "      f't = {horizontal_tangent_lines}')\n",
    "print(f'The equation of the horizontal tangent line',\n",
    "      f'of {g} is x = {g.subs(t, horizontal_tangent_lines)}')"
   ]
  },
  {
   "cell_type": "markdown",
   "id": "ded46854",
   "metadata": {},
   "source": [
    "#### 3d"
   ]
  },
  {
   "cell_type": "code",
   "execution_count": 10,
   "id": "629e860f",
   "metadata": {},
   "outputs": [
    {
     "name": "stdout",
     "output_type": "stream",
     "text": [
      "The derivative of (2*t + 1)**5*(t**2 - t + 2)**4 is (2*t + 1)**5*(8*t - 4)*(t**2 - t + 2)**3 + 10*(2*t + 1)**4*(t**2 - t + 2)**4\n"
     ]
    }
   ],
   "source": [
    "t = symbols('t')\n",
    "f = (2 * t + 1) ** 5 * (t ** 2 - t + 2) ** 4\n",
    "f_diff = diff(f, t)\n",
    "print(f'The derivative of {f} is {f_diff}')"
   ]
  },
  {
   "cell_type": "markdown",
   "id": "bba9a046",
   "metadata": {},
   "source": [
    "#### 3e"
   ]
  },
  {
   "cell_type": "code",
   "execution_count": 11,
   "id": "9fec14c5",
   "metadata": {},
   "outputs": [
    {
     "name": "stdout",
     "output_type": "stream",
     "text": [
      "The simplified derivative of (2*t + 1)**5*(t**2 - t + 2)**4 is (2*t + 1)**4*(t**2 - t + 2)**3*(10*t**2 - 10*t + 4*(2*t - 1)*(2*t + 1) + 20)\n"
     ]
    }
   ],
   "source": [
    "print(f'The simplified derivative of {f} is {simplify(f_diff)}')"
   ]
  },
  {
   "cell_type": "markdown",
   "id": "7eb41f76",
   "metadata": {},
   "source": [
    "#### 3f"
   ]
  },
  {
   "cell_type": "code",
   "execution_count": 12,
   "id": "c267bbc0",
   "metadata": {},
   "outputs": [
    {
     "name": "stdout",
     "output_type": "stream",
     "text": [
      "The factored derivative of (2*t + 1)**5*(t**2 - t + 2)**4 is 2*(2*t + 1)**4*(t**2 - t + 2)**3*(13*t**2 - 5*t + 8)\n"
     ]
    }
   ],
   "source": [
    "print(f'The factored derivative of {f} is {factor(f_diff)}')"
   ]
  },
  {
   "cell_type": "markdown",
   "id": "90f086f4",
   "metadata": {},
   "source": [
    "#### 3g"
   ]
  },
  {
   "cell_type": "code",
   "execution_count": 13,
   "id": "86ee8b37",
   "metadata": {},
   "outputs": [
    {
     "name": "stdout",
     "output_type": "stream",
     "text": [
      "The simplified version of the derivative of (2*t + 1)**5*(t**2 - t + 2)**4 that would be best used for finding horizontal tangent lines is 2*(2*t + 1)**4*(t**2 - t + 2)**3*(13*t**2 - 5*t + 8) since it is the simplest form of the derivative of (2*t + 1)**5*(t**2 - t + 2)**4.\n",
      "The horizontal tangent lines of (2*t + 1)**5*(t**2 - t + 2)**4 are at t = [-1/2, 5/26 - sqrt(391)*I/26, 5/26 + sqrt(391)*I/26, 1/2 - sqrt(7)*I/2, 1/2 + sqrt(7)*I/2]\n"
     ]
    }
   ],
   "source": [
    "print(f'The simplified version of the derivative of {f} that',\n",
    "      f'would be best used for finding horizontal tangent lines',\n",
    "      f'is {factor(f_diff)} since it is the simplest form of the',\n",
    "      f'derivative of {f}.')\n",
    "print(f'The horizontal tangent lines of {f} are at t = {solve(f_diff, t)}')"
   ]
  },
  {
   "cell_type": "markdown",
   "id": "f9fde57e",
   "metadata": {},
   "source": [
    "### Question 4"
   ]
  },
  {
   "cell_type": "markdown",
   "id": "7e54bb48",
   "metadata": {},
   "source": [
    "#### 4a"
   ]
  },
  {
   "cell_type": "code",
   "execution_count": 14,
   "id": "3ce0b4af",
   "metadata": {},
   "outputs": [
    {
     "name": "stdout",
     "output_type": "stream",
     "text": [
      "The rate of change of F = W*μ/(μ*sin(θ) + cos(θ)) with respect to θ is W*μ*(-μ*cos(θ) + sin(θ))/(μ*sin(θ) + cos(θ))**2\n"
     ]
    }
   ],
   "source": [
    "mu, theta, W = symbols('μ θ W')\n",
    "F = (mu * W) / (mu * sin(theta) + cos(theta))\n",
    "\n",
    "print(f'The rate of change of F = {F} with respect',\n",
    "      f'to {theta} is {diff(F, theta)}')"
   ]
  },
  {
   "cell_type": "markdown",
   "id": "cd9781f6",
   "metadata": {},
   "source": [
    "#### 4b"
   ]
  },
  {
   "cell_type": "code",
   "execution_count": 15,
   "id": "918804cf",
   "metadata": {},
   "outputs": [
    {
     "name": "stdout",
     "output_type": "stream",
     "text": [
      "The formula for when the rate of change of F = W*μ/(μ*sin(θ) + cos(θ)) equals 0 is W*μ*(-μ*cos(θ) + sin(θ))/(μ*sin(θ) + cos(θ))**2\n",
      "When the rate of change of F = W*μ/(μ*sin(θ) + cos(θ)) equals 0 , we get θ = [2*atan((sqrt(μ**2 + 1) - 1)/μ), -2*atan((sqrt(μ**2 + 1) + 1)/μ)]\n"
     ]
    }
   ],
   "source": [
    "formula = diff(F, theta)\n",
    "print(f'The formula for when the rate of change of',\n",
    "      f'F = {F} equals 0 is {formula}')\n",
    "print(f'When the rate of change of F = {F} equals 0',\n",
    "      f', we get {theta} = {solve(formula, theta)}')"
   ]
  },
  {
   "cell_type": "markdown",
   "id": "f4a58c47",
   "metadata": {},
   "source": [
    "#### 4c"
   ]
  },
  {
   "cell_type": "code",
   "execution_count": 16,
   "id": "8bda340d",
   "metadata": {},
   "outputs": [
    {
     "name": "stdout",
     "output_type": "stream",
     "text": [
      "The graph shows below shows the rate of change of F = 60.0/(0.6*sin(θ) + cos(θ)) with respect to θ when W = 100 and μ = 0.6\n",
      "I estimate that the rate of change of F = 60.0/(0.6*sin(θ) + cos(θ)) with respect to θ is 0 when θ = 0.5\n"
     ]
    },
    {
     "data": {
      "image/png": "[encoded data removed]",
      "text/plain": [
       "<Figure size 640x480 with 1 Axes>"
      ]
     },
     "metadata": {},
     "output_type": "display_data"
    },
    {
     "data": {
      "text/plain": [
       "<sympy.plotting.plot.Plot at 0x7ff4cb3aa7d0>"
      ]
     },
     "execution_count": 16,
     "metadata": {},
     "output_type": "execute_result"
    }
   ],
   "source": [
    "F = F.subs(W, 100).subs(mu, 0.6)\n",
    "\n",
    "print(f'The graph shows below shows the rate of change',\n",
    "      f'of F = {F} with respect to {theta} when W = 100',\n",
    "      f'and μ = 0.6')\n",
    "print(f'I estimate that the rate of change of F = {F}',\n",
    "      f'with respect to {theta} is 0 when θ = 0.5')\n",
    "\n",
    "plot(F, (theta, -pi, pi), ylim=(0, 100))"
   ]
  },
  {
   "cell_type": "markdown",
   "id": "3c94da4c",
   "metadata": {},
   "source": [
    "#### 4d"
   ]
  },
  {
   "cell_type": "code",
   "execution_count": 17,
   "id": "dacc44c7",
   "metadata": {},
   "outputs": [
    {
     "name": "stdout",
     "output_type": "stream",
     "text": [
      "I can verify my estimate of 0.5 being the value of θ when W*μ*(-μ*cos(θ) + sin(θ))/(μ*sin(θ) + cos(θ))**2 equals 0 by solving for θ in the formula W*μ*(-μ*cos(θ) + sin(θ))/(μ*sin(θ) + cos(θ))**2 and getting 2*atan((sqrt(μ**2 + 1) - 1)/μ)\n"
     ]
    }
   ],
   "source": [
    "print(f'I can verify my estimate of 0.5 being the value of {theta} when {formula} equals 0 by solving for {theta} in the formula {formula} and getting {solve(formula, theta)[0]}')"
   ]
  }
 ],
 "metadata": {
  "kernelspec": {
   "display_name": "Python 3 (ipykernel)",
   "language": "python",
   "name": "python3"
  },
  "language_info": {
   "codemirror_mode": {
    "name": "ipython",
    "version": 3
   },
   "file_extension": ".py",
   "mimetype": "text/x-python",
   "name": "python",
   "nbconvert_exporter": "python",
   "pygments_lexer": "ipython3",
   "version": "3.10.6"
  },
  "vscode": {
   "interpreter": {
    "hash": "916dbcbb3f70747c44a77c7bcd40155683ae19c65e1c03b4aa3499c5328201f1"
   }
  }
 },
 "nbformat": 4,
 "nbformat_minor": 5
}
