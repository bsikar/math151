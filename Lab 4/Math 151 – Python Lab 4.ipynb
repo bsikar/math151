{
 "cells": [
  {
   "cell_type": "markdown",
   "id": "20c00fa5",
   "metadata": {},
   "source": [
    "## MATH 151 Lab  5"
   ]
  },
  {
   "cell_type": "markdown",
   "id": "7c243ef1",
   "metadata": {},
   "source": [
    "Section Number: 568\n",
    "\n",
    "\n",
    "Members:\n",
    "\n",
    "\n",
    "- Brighton Sikarskie\n",
    "- Colton Hesser\n",
    "- Gabriel Gonzalez\n",
    "- Gabriel Cuevas"
   ]
  },
  {
   "cell_type": "code",
   "execution_count": 1,
   "id": "cf836732",
   "metadata": {},
   "outputs": [],
   "source": [
    "from sympy import *\n",
    "from sympy.plotting import (plot,plot_parametric)\n",
    "%matplotlib inline"
   ]
  },
  {
   "cell_type": "markdown",
   "id": "3169990f",
   "metadata": {},
   "source": [
    "### Question 1"
   ]
  },
  {
   "cell_type": "markdown",
   "id": "f0561a86",
   "metadata": {},
   "source": [
    "#### 1a"
   ]
  },
  {
   "cell_type": "code",
   "execution_count": 3,
   "id": "0889599a",
   "metadata": {},
   "outputs": [
    {
     "name": "stdout",
     "output_type": "stream",
     "text": [
      "The 1st derivative of (x**2 + 1)*exp(x) is 2*x*exp(x) + (x**2 + 1)*exp(x)\n",
      "The 2th derivative of (x**2 + 1)*exp(x) is 4*x*exp(x) + (x**2 + 1)*exp(x) + 2*exp(x)\n",
      "The 3th derivative of (x**2 + 1)*exp(x) is 6*x*exp(x) + (x**2 + 1)*exp(x) + 6*exp(x)\n",
      "The 4th derivative of (x**2 + 1)*exp(x) is 8*x*exp(x) + (x**2 + 1)*exp(x) + 12*exp(x)\n",
      "The 5th derivative of (x**2 + 1)*exp(x) is 10*x*exp(x) + (x**2 + 1)*exp(x) + 20*exp(x)\n",
      "The 6th derivative of (x**2 + 1)*exp(x) is 12*x*exp(x) + (x**2 + 1)*exp(x) + 30*exp(x)\n",
      "The 7th derivative of (x**2 + 1)*exp(x) is 14*x*exp(x) + (x**2 + 1)*exp(x) + 42*exp(x)\n",
      "The 8th derivative of (x**2 + 1)*exp(x) is 16*x*exp(x) + (x**2 + 1)*exp(x) + 56*exp(x)\n"
     ]
    }
   ],
   "source": [
    "x = Symbol('x')\n",
    "fo = exp(x) * (1 + x ** 2)\n",
    "f = fo\n",
    "for i in range(1, 9):\n",
    "    f = diff(f, x)\n",
    "    if i == 1:\n",
    "        print(f'The {i}st derivative of {fo} is {f}')\n",
    "    else:\n",
    "        print(f'The {i}th derivative of {fo} is {f}')"
   ]
  },
  {
   "cell_type": "markdown",
   "id": "efdd616f",
   "metadata": {},
   "source": [
    "#### 1b"
   ]
  },
  {
   "cell_type": "code",
   "execution_count": 36,
   "id": "582449e5",
   "metadata": {},
   "outputs": [
    {
     "name": "stdout",
     "output_type": "stream",
     "text": [
      "The nth derivative of (x**2 + 1)*exp(x) can be found using 2*n*x*exp(x) + (n**2 - n)*exp(x) + (x**2 + 1)*exp(x)\n"
     ]
    }
   ],
   "source": [
    "n = symbols('n')\n",
    "equation = 2 * n * x * exp(x) + (x ** 2 + 1) * exp(x) + (n ** 2 - n) * exp(x)\n",
    "f = fo\n",
    "for i in range(1, 50):\n",
    "    f = diff(f, x)\n",
    "    try:\n",
    "        assert(equation.subs(n, i) == f)\n",
    "    except AssertionError:\n",
    "        print(f'The {i}th derivative of {fo} is {f} and not {equation.subs(n, i)}')\n",
    "        break\n",
    "print(f'The nth derivative of {fo} can be found using {equation}')"
   ]
  },
  {
   "cell_type": "markdown",
   "id": "0721fb00",
   "metadata": {},
   "source": [
    "#### 1c"
   ]
  },
  {
   "cell_type": "code",
   "execution_count": 39,
   "id": "dd38ebc1",
   "metadata": {},
   "outputs": [
    {
     "name": "stdout",
     "output_type": "stream",
     "text": [
      "The 50th derivative of (x**2 + 1)*exp(x) is 100*x*exp(x) + (x**2 + 1)*exp(x) + 2450*exp(x)\n",
      "Using our formula we can verify that the 50th derivative of (x**2 + 1)*exp(x) is 100*x*exp(x) + (x**2 + 1)*exp(x) + 2450*exp(x)\n"
     ]
    }
   ],
   "source": [
    "f = fo\n",
    "for _ in range(50): f = diff(f, x)\n",
    "print(f'The 50th derivative of {fo} is {f}')\n",
    "print(f'Using our formula we can verify that the 50th derivative of {fo} is {equation.subs(n, 50)}')"
   ]
  },
  {
   "cell_type": "markdown",
   "id": "8b00f000",
   "metadata": {},
   "source": [
    "### Question 2"
   ]
  },
  {
   "cell_type": "markdown",
   "id": "bacdc1db",
   "metadata": {},
   "source": [
    "#### 2a"
   ]
  },
  {
   "cell_type": "code",
   "execution_count": 40,
   "id": "be2f2c71",
   "metadata": {},
   "outputs": [
    {
     "name": "stdout",
     "output_type": "stream",
     "text": [
      "The values of k that make -4*k**2*cos(k*t) + 25*cos(k*t) = 0 are [-5/2, 5/2, pi/(2*t), 3*pi/(2*t)]\n"
     ]
    }
   ],
   "source": [
    "# TODO verify that this works\n",
    "k, t = symbols('k t')\n",
    "y = cos(k * t)\n",
    "y_diff1 = diff(y, t)\n",
    "y_diff2 = diff(y_diff1, t)\n",
    "f = 4 * y_diff2 + 25 * y\n",
    "# what values of k make f = 0?\n",
    "solutions = solve(f, k)\n",
    "print(f'The values of k that make {f} = 0 are {solutions}')"
   ]
  },
  {
   "cell_type": "markdown",
   "id": "23bc68a6",
   "metadata": {},
   "source": [
    "#### 2b"
   ]
  },
  {
   "cell_type": "code",
   "execution_count": 43,
   "id": "357bbf0f",
   "metadata": {},
   "outputs": [
    {
     "name": "stdout",
     "output_type": "stream",
     "text": [
      "The values of k that make A*sin(k*t) + B*cos(k*t) = 0 are [2*atan((A - sqrt(A**2 + B**2))/B)/t, 2*atan((A + sqrt(A**2 + B**2))/B)/t]\n"
     ]
    }
   ],
   "source": [
    "# XXX fix this\n",
    "A, B, = symbols('A B')\n",
    "y = A * sin(k * t) + B * cos(k * t)\n",
    "new_solutions = solve(y, k)\n",
    "print(f'The values of k that make {y} = 0 are {new_solutions}')\n"
   ]
  },
  {
   "cell_type": "markdown",
   "id": "1fb8b9b8",
   "metadata": {},
   "source": [
    "### Question 3"
   ]
  },
  {
   "cell_type": "markdown",
   "id": "ccffd0d0",
   "metadata": {},
   "source": [
    "#### 3a"
   ]
  },
  {
   "cell_type": "code",
   "execution_count": 44,
   "id": "9ebb9309",
   "metadata": {},
   "outputs": [
    {
     "name": "stdout",
     "output_type": "stream",
     "text": [
      "The derivative of (t - 2)**9/(2*t + 1)**9 is -18*(t - 2)**9/(2*t + 1)**10 + 9*(t - 2)**8/(2*t + 1)**9\n"
     ]
    }
   ],
   "source": [
    "t = symbols('t')\n",
    "g = ((t - 2) / (2 * t + 1)) ** 9\n",
    "g_diff = diff(g, t)\n",
    "print(f'The derivative of {g} is {g_diff}')"
   ]
  },
  {
   "cell_type": "markdown",
   "id": "baa2be1a",
   "metadata": {},
   "source": [
    "#### 3b"
   ]
  },
  {
   "cell_type": "code",
   "execution_count": 63,
   "id": "ed50b7a1",
   "metadata": {},
   "outputs": [
    {
     "name": "stdout",
     "output_type": "stream",
     "text": [
      "The simplified derivative of (t - 2)**9/(2*t + 1)**9 is 45*(t - 2)**8/(2*t + 1)**10\n"
     ]
    },
    {
     "data": {
      "text/latex": [
       "$\\displaystyle \\frac{45 \\left(t - 2\\right)^{8}}{\\left(2 t + 1\\right)^{10}}$"
      ],
      "text/plain": [
       "45*(t - 2)**8/(2*t + 1)**10"
      ]
     },
     "metadata": {},
     "output_type": "display_data"
    }
   ],
   "source": [
    "g_simple = simplify(g_diff)\n",
    "print(f'The simplified derivative of {g} is {g_simple}')\n",
    "display(g_simple)"
   ]
  },
  {
   "cell_type": "markdown",
   "id": "f78847a1",
   "metadata": {},
   "source": [
    "#### 3c"
   ]
  },
  {
   "cell_type": "code",
   "execution_count": 62,
   "id": "9fff1823",
   "metadata": {},
   "outputs": [
    {
     "name": "stdout",
     "output_type": "stream",
     "text": [
      "The horizontal tangent line of (t - 2)**9/(2*t + 1)**9 is at y = 2\n",
      "The equation of the horizontal tangent line of (t - 2)**9/(2*t + 1)**9 is x = 0\n"
     ]
    }
   ],
   "source": [
    "# print the equation for all horizontal tangent lines of g\n",
    "horizontal_tangent_lines = solve(g_diff, t)[0]\n",
    "print(f'The horizontal tangent line of {g} is at t = {horizontal_tangent_lines}')\n",
    "print(f'The equation of the horizontal tangent line of {g} is x = {g.subs(t, horizontal_tangent_lines)}')"
   ]
  },
  {
   "cell_type": "markdown",
   "id": "ded46854",
   "metadata": {},
   "source": [
    "#### 3d"
   ]
  },
  {
   "cell_type": "code",
   "execution_count": null,
   "id": "629e860f",
   "metadata": {},
   "outputs": [],
   "source": [
    "#simplify"
   ]
  },
  {
   "cell_type": "markdown",
   "id": "bba9a046",
   "metadata": {},
   "source": [
    "#### 3e"
   ]
  },
  {
   "cell_type": "code",
   "execution_count": null,
   "id": "9fec14c5",
   "metadata": {},
   "outputs": [],
   "source": [
    "#factor"
   ]
  },
  {
   "cell_type": "markdown",
   "id": "7eb41f76",
   "metadata": {},
   "source": [
    "#### 3f"
   ]
  },
  {
   "cell_type": "code",
   "execution_count": null,
   "id": "c267bbc0",
   "metadata": {},
   "outputs": [],
   "source": [
    "#horizontal tangent lines"
   ]
  },
  {
   "cell_type": "markdown",
   "id": "90f086f4",
   "metadata": {},
   "source": [
    "#### 3g"
   ]
  },
  {
   "cell_type": "code",
   "execution_count": null,
   "id": "86ee8b37",
   "metadata": {},
   "outputs": [],
   "source": [
    "# hi"
   ]
  },
  {
   "cell_type": "markdown",
   "id": "f9fde57e",
   "metadata": {},
   "source": [
    "### Question 4"
   ]
  },
  {
   "cell_type": "markdown",
   "id": "7e54bb48",
   "metadata": {},
   "source": [
    "#### 4a"
   ]
  },
  {
   "cell_type": "code",
   "execution_count": null,
   "id": "3ce0b4af",
   "metadata": {},
   "outputs": [],
   "source": [
    "#ROC "
   ]
  },
  {
   "cell_type": "markdown",
   "id": "cd9781f6",
   "metadata": {},
   "source": [
    "#### 4b"
   ]
  },
  {
   "cell_type": "code",
   "execution_count": null,
   "id": "918804cf",
   "metadata": {},
   "outputs": [],
   "source": [
    "#ROC = 0"
   ]
  },
  {
   "cell_type": "markdown",
   "id": "f4a58c47",
   "metadata": {},
   "source": [
    "#### 4c"
   ]
  },
  {
   "cell_type": "code",
   "execution_count": null,
   "id": "8bda340d",
   "metadata": {},
   "outputs": [],
   "source": [
    "#graph"
   ]
  },
  {
   "cell_type": "markdown",
   "id": "3c94da4c",
   "metadata": {},
   "source": [
    "#### 4d"
   ]
  },
  {
   "cell_type": "code",
   "execution_count": null,
   "id": "dacc44c7",
   "metadata": {},
   "outputs": [],
   "source": [
    "#verify (c)"
   ]
  }
 ],
 "metadata": {
  "kernelspec": {
   "display_name": "Python 3.10.5 64-bit",
   "language": "python",
   "name": "python3"
  },
  "language_info": {
   "codemirror_mode": {
    "name": "ipython",
    "version": 3
   },
   "file_extension": ".py",
   "mimetype": "text/x-python",
   "name": "python",
   "nbconvert_exporter": "python",
   "pygments_lexer": "ipython3",
   "version": "3.10.5"
  },
  "vscode": {
   "interpreter": {
    "hash": "1185b752b42a774032ed3acde13763f42ed6db4463138e5ce81ded0750a84f6f"
   }
  }
 },
 "nbformat": 4,
 "nbformat_minor": 5
}
